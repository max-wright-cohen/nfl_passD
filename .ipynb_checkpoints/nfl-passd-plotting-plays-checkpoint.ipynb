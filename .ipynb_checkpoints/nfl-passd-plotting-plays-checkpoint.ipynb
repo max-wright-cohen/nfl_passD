{
 "cells": [
  {
   "cell_type": "markdown",
   "metadata": {},
   "source": [
    "# IDEAS LIST\n",
    "##Main Ideas\n",
    "* Focus of competition is on pass defense\n",
    "* What is a successful pass defense?\n",
    "    * Incompletion\n",
    "    * Offense loses yards\n",
    "    * Offense does not gain a first down\n",
    "    * Sack, interception, offensive penalty\n",
    "       \n",
    "* Who is most successful against pass?\n",
    "    * Defenders?\n",
    "    * Defensive alignments?\n",
    "    * Coverages?\n",
    "    * Formation pairings for defense to avoid?\n",
    "    \n",
    "* How can we predict a penalty?\n",
    "    * What does a penalty cost in terms of yardage, EPA?\n",
    "\n",
    "* Things that could impact success of pass defense\n",
    "     * Speed of throw\n",
    "     * Blitz (number of defenders defense sends)\n",
    "     * Orientation of receiver\n",
    "     * Amount QB runs around\n",
    "     * Adjust for opponent epa\n",
    "     \n",
    "* Create dataframe of team defensive stats?\n",
    "     \n",
    "* Break down all-22 film with accompanying mapping of play\n",
    "    * https://gamepass.nfl.com/packages?redirected=true\n",
    "\n",
    "~* triangles (or other shape) depict orientation of player throughout the route~\n",
    "\n",
    "* Model to predict Probability of Defensive PI\n",
    "\n",
    "* Tell a story\n",
    "\n",
    "\n",
    "##Resources\n",
    "* https://www.kaggle.com/c/nfl-big-data-bowl-2021/data\n",
    "* http://www.sloansportsconference.com/wp-content/uploads/2018/02/2012.pdf\n"
   ]
  },
  {
   "cell_type": "code",
   "execution_count": 31,
   "metadata": {},
   "outputs": [
    {
     "name": "stdout",
     "output_type": "stream",
     "text": [
      "/Users/maxcohen/Documents/Python/Kaggle/nfl_2021\n"
     ]
    }
   ],
   "source": [
    "cd /Users/maxcohen/Documents/Python/Kaggle/nfl_2021"
   ]
  },
  {
   "cell_type": "code",
   "execution_count": 8,
   "metadata": {},
   "outputs": [],
   "source": [
    "import pandas as pd\n",
    "import numpy as np\n",
    "import matplotlib.pyplot as plt\n",
    "import matplotlib.patches as patches\n",
    "import seaborn as sns\n",
    "import glob"
   ]
  },
  {
   "cell_type": "markdown",
   "metadata": {},
   "source": [
    "# read in all the files\n",
    "files = glob.glob('./nfl-big-data-bowl-2021/week*.csv')\n",
    "\n",
    "li=[]\n",
    "for f in files:\n",
    "    df = pd.read_csv(f)\n",
    "    li.append(df)\n",
    "    \n",
    "weeks = pd.concat(li)\n",
    "\n",
    "weeks.reset_index(drop=True,inplace=True)"
   ]
  },
  {
   "cell_type": "markdown",
   "metadata": {},
   "source": [
    "weeks.to_csv('./nfl-big-data-bowl-2021/all_weeks.csv',index=False)"
   ]
  },
  {
   "cell_type": "code",
   "execution_count": 36,
   "metadata": {
    "_cell_guid": "79c7e3d0-c299-4dcb-8224-4455121ee9b0",
    "_kg_hide-input": false,
    "_uuid": "d629ff2d2480ee46fbb7e2d37f6b5fab8052498a"
   },
   "outputs": [],
   "source": [
    "weeks = pd.read_csv('./nfl-big-data-bowl-2021/all_weeks.csv')\n",
    "plays = pd.read_csv('./nfl-big-data-bowl-2021/plays.csv')\n",
    "games = pd.read_csv('./nfl-big-data-bowl-2021/games.csv')\n",
    "players = pd.read_csv('./nfl-big-data-bowl-2021/players.csv')\n",
    "tgt = pd.read_csv('./nfl-big-data-bowl-2021/targetedReciever.csv')"
   ]
  },
  {
   "cell_type": "markdown",
   "metadata": {},
   "source": [
    "## PLOTTING PLAYS"
   ]
  },
  {
   "cell_type": "code",
   "execution_count": 409,
   "metadata": {},
   "outputs": [
    {
     "data": {
      "image/png": "[encoded data removed]",
      "text/plain": [
       "<Figure size 1296x683.64 with 1 Axes>"
      ]
     },
     "metadata": {
      "needs_background": "light"
     },
     "output_type": "display_data"
    }
   ],
   "source": [
    "def create_football_field(linenumbers=True,\n",
    "                          endzones=True,\n",
    "                          highlight_line=False,\n",
    "                          highlight_line_number=50,\n",
    "                          highlighted_name='LoS',\n",
    "                          firstdown_line=False,\n",
    "                          firstdown_line_number=50,\n",
    "                          firstdown_name='First Down',\n",
    "                          fifty_is_los=False,\n",
    "                          figsize=(12*1.5, 6.33*1.5)):\n",
    "    \"\"\"\n",
    "    Function that plots the football field for viewing plays.\n",
    "    Allows for showing or hiding endzones.\n",
    "    \"\"\"\n",
    "    rect = patches.Rectangle((0, 0), 120, 53.3, linewidth=0.1,\n",
    "                             edgecolor='k', facecolor='white',alpha=.7 ,zorder=0)\n",
    "\n",
    "    fig, ax = plt.subplots(1, figsize=figsize)\n",
    "    ax.add_patch(rect)\n",
    "\n",
    "    plt.plot([10, 10, 10, 20, 20, 30, 30, 40, 40, 50, 50, 60, 60, 70, 70, 80,\n",
    "              80, 90, 90, 100, 100, 110, 110, 120, 0, 0, 120, 120],\n",
    "             [0, 0, 53.3, 53.3, 0, 0, 53.3, 53.3, 0, 0, 53.3, 53.3, 0, 0, 53.3,\n",
    "              53.3, 0, 0, 53.3, 53.3, 0, 0, 53.3, 53.3, 53.3, 0, 0, 53.3],\n",
    "             color='k')\n",
    "    if fifty_is_los:\n",
    "        plt.plot([60, 60], [0, 53.3], color='gold')\n",
    "        plt.text(62, 50, '<- Player Yardline at Snap', color='gold')\n",
    "    # Endzones\n",
    "    if endzones:\n",
    "        ez1 = patches.Rectangle((0, 0), 10, 53.3,\n",
    "                                linewidth=0.1,\n",
    "                                edgecolor='gray',\n",
    "                                facecolor='gray',\n",
    "                                alpha=0.2,\n",
    "                                zorder=0)\n",
    "        ez2 = patches.Rectangle((110, 0), 120, 53.3,\n",
    "                                linewidth=0.1,\n",
    "                                edgecolor='gray',\n",
    "                                facecolor='gray',\n",
    "                                alpha=0.2,\n",
    "                                zorder=0)\n",
    "        ax.add_patch(ez1)\n",
    "        ax.add_patch(ez2)\n",
    "    plt.xlim(0, 120)\n",
    "    plt.ylim(-5, 58.3)\n",
    "    plt.axis('off')\n",
    "    if linenumbers:\n",
    "        for x in range(20, 110, 10):\n",
    "            numb = x\n",
    "            if x > 50:\n",
    "                numb = 120 - x\n",
    "            plt.text(x, 1.3, str(numb - 10),\n",
    "                     horizontalalignment='center',\n",
    "                     fontsize=20,\n",
    "                     color='gray',\n",
    "                     zorder=1)\n",
    "            plt.text(x-.5, 53.3 - 2, str(numb - 10),\n",
    "                     horizontalalignment='center',\n",
    "                     fontsize=20,\n",
    "                     color='gray', \n",
    "                     zorder=1, rotation=180)\n",
    "    if endzones:\n",
    "        hash_range = range(11, 110)\n",
    "    else:\n",
    "        hash_range = range(1, 120)\n",
    "\n",
    "    for x in hash_range:\n",
    "        ax.plot([x, x], [0.4, 0.7], color='gray')\n",
    "        ax.plot([x, x], [53.0, 52.5], color='gray')\n",
    "        ax.plot([x, x], [22.91, 23.57], color='gray')\n",
    "        ax.plot([x, x], [29.73, 30.39], color='gray')\n",
    "\n",
    "    if highlight_line:\n",
    "        hl = highlight_line_number + 10\n",
    "        plt.plot([hl, hl], [0.3, 53], color='blue',zorder=2)\n",
    "        plt.text(hl + 1, 51, '<- {}'.format(highlighted_name),color='blue',zorder=2)\n",
    "    \n",
    "    if firstdown_line:\n",
    "        f1 = firstdown_line_number +10\n",
    "        plt.plot([f1,f1],[0.3,53], color='gold',zorder=1)\n",
    "        plt.text(f1 + 1, 2, '<- {}'.format(firstdown_name), color='gold',zorder=2)\n",
    "    \n",
    "    return fig, ax\n",
    "\n",
    "create_football_field(highlight_line=True,highlight_line_number=32,firstdown_line=True,firstdown_line_number=42)\n",
    "plt.show()"
   ]
  },
  {
   "cell_type": "code",
   "execution_count": null,
   "metadata": {},
   "outputs": [],
   "source": [
    "# find commons keys across all data frames\n",
    "## weeks -> nflId(playerid), gameId, playId\n",
    "## plays -> gameId, playId\n",
    "## games -> gameId\n",
    "## players -> nflId(playerid)"
   ]
  },
  {
   "cell_type": "code",
   "execution_count": 385,
   "metadata": {},
   "outputs": [
    {
     "name": "stdout",
     "output_type": "stream",
     "text": [
      "['time', 'x', 'y', 's', 'a', 'dis', 'o', 'dir', 'event', 'nflId', 'displayName', 'jerseyNumber', 'position', 'frameId', 'team', 'gameId', 'playId', 'playDirection', 'route']\n",
      "['gameId', 'playId', 'playDescription', 'quarter', 'down', 'yardsToGo', 'possessionTeam', 'playType', 'yardlineSide', 'yardlineNumber', 'offenseFormation', 'personnelO', 'defendersInTheBox', 'numberOfPassRushers', 'personnelD', 'typeDropback', 'preSnapVisitorScore', 'preSnapHomeScore', 'gameClock', 'absoluteYardlineNumber', 'penaltyCodes', 'penaltyJerseyNumbers', 'passResult', 'offensePlayResult', 'playResult', 'epa', 'isDefensivePI']\n",
      "['gameId', 'gameDate', 'gameTimeEastern', 'homeTeamAbbr', 'visitorTeamAbbr', 'week']\n",
      "['nflId', 'height', 'weight', 'birthDate', 'collegeName', 'position', 'displayName']\n",
      "['gameId', 'playId', 'targetNflId']\n"
     ]
    }
   ],
   "source": [
    "for i in [weeks,plays,games,players,tgt]:\n",
    "    print(list(i.columns))"
   ]
  },
  {
   "cell_type": "code",
   "execution_count": 395,
   "metadata": {},
   "outputs": [],
   "source": [
    "#merge dataframes together to get all possible information\n",
    "#merge on shared columns\n",
    "#best if df is a subset of weeks\n",
    "def merge(dfinput,playsdf=plays,gamesdf=games,playersdf=players,tgtdf=tgt):\n",
    "    return (dfinput.merge(playsdf,on=['gameId','playId'],how='left')\n",
    "            .merge(gamesdf,on='gameId',how='left')\n",
    "            .merge(playersdf,on=['nflId','position','displayName'],how='left')\n",
    "            .merge(tgt,on=['gameId','playId'],how='left'))"
   ]
  },
  {
   "cell_type": "code",
   "execution_count": 396,
   "metadata": {},
   "outputs": [],
   "source": [
    "df = merge(weeks)"
   ]
  },
  {
   "cell_type": "code",
   "execution_count": 168,
   "metadata": {},
   "outputs": [],
   "source": [
    "#function to filter weeks for a specific gameId and playId\n",
    "def one_play(gameId,playId):\n",
    "    filt = (weeks['gameId'] == gameId) & (weeks['playId'] == playId)\n",
    "    one_play = weeks[filt]\n",
    "    return one_play"
   ]
  },
  {
   "cell_type": "code",
   "execution_count": 208,
   "metadata": {},
   "outputs": [
    {
     "data": {
      "text/html": [
       "<div>\n",
       "<style scoped>\n",
       "    .dataframe tbody tr th:only-of-type {\n",
       "        vertical-align: middle;\n",
       "    }\n",
       "\n",
       "    .dataframe tbody tr th {\n",
       "        vertical-align: top;\n",
       "    }\n",
       "\n",
       "    .dataframe thead th {\n",
       "        text-align: right;\n",
       "    }\n",
       "</style>\n",
       "<table border=\"1\" class=\"dataframe\">\n",
       "  <thead>\n",
       "    <tr style=\"text-align: right;\">\n",
       "      <th></th>\n",
       "      <th>gameId</th>\n",
       "      <th>playId</th>\n",
       "    </tr>\n",
       "  </thead>\n",
       "  <tbody>\n",
       "    <tr>\n",
       "      <td>12752</td>\n",
       "      <td>2018112509</td>\n",
       "      <td>2475</td>\n",
       "    </tr>\n",
       "  </tbody>\n",
       "</table>\n",
       "</div>"
      ],
      "text/plain": [
       "           gameId  playId\n",
       "12752  2018112509    2475"
      ]
     },
     "execution_count": 208,
     "metadata": {},
     "output_type": "execute_result"
    }
   ],
   "source": [
    "max_yds = plays['offensePlayResult'].max()\n",
    "plays[plays['offensePlayResult'] == max_yds][['gameId','playId']]"
   ]
  },
  {
   "cell_type": "code",
   "execution_count": 410,
   "metadata": {},
   "outputs": [
    {
     "data": {
      "image/png": "[encoded data removed]",
      "text/plain": [
       "<Figure size 1296x683.64 with 1 Axes>"
      ]
     },
     "metadata": {
      "needs_background": "light"
     },
     "output_type": "display_data"
    }
   ],
   "source": [
    "#use one_play function to create dataframe of play\n",
    "play = merge(one_play(2018112509,2475))\n",
    "#video link: https://www.youtube.com/watch?v=06WgbWQrwP4&ab_channel=budleewiser\n",
    "\n",
    "#find line of scrimmage (los)\n",
    "los = play['absoluteYardlineNumber'][0] - 10\n",
    "#find first down line\n",
    "if play['playDirection'][0] == 'left':\n",
    "    firstdown = los - play['yardsToGo'][0]\n",
    "else:\n",
    "    firstdown = los + play['yardsToGo'][0]\n",
    "\n",
    "#use football field function\n",
    "#include line of scrimmage and first down line\n",
    "fig, ax = create_football_field(highlight_line=True,highlight_line_number=los,\n",
    "                                firstdown_line=True,firstdown_line_number=firstdown)\n",
    "\n",
    "#create new df that filters the play\n",
    "#remove Football and  points where there is a pass outcome\n",
    "df1 = play[ (play['displayName'] != 'Football') & (play['event'] != 'pass_outcome_caught')]\n",
    "#group by team so that we can set columns\n",
    "groups = df1.groupby('team')\n",
    "colors = {'away':'yellow','home':'orange'}\n",
    "#loop through the groups to plot each point\n",
    "for name, group in groups: \n",
    "    plt.scatter(x=group['x'],\n",
    "               y=group['y'],\n",
    "               alpha=.7,\n",
    "               color=colors[name], #add colors based on the colors dictionary\n",
    "               marker='.',\n",
    "               s=20,\n",
    "               label=name.capitalize(),\n",
    "                zorder=3) #set labels to name of group (home or away)\n",
    "\n",
    "#create new df for the rows that have pass outcome\n",
    "df2 = play[ (play['displayName'] != 'Football') & (play['event'] == 'pass_outcome_caught')]\n",
    "#this for loop sets the orientation of the marker line to represent the players orientation at pass outcome\n",
    "for i in df2.index:\n",
    "    plt.scatter(x=df2.loc[i,'x'],\n",
    "                y=df2.loc[i,'y'],\n",
    "                   color='black',\n",
    "                   marker=(2,2,df2.loc[i,'o']),\n",
    "                   s=40,\n",
    "                zorder=3)\n",
    "\n",
    "#plot the path of the football\n",
    "play[play['displayName'] == 'Football'].plot(x='x',\n",
    "                                               y='y',\n",
    "                                               kind='scatter',\n",
    "                                               ax=ax,\n",
    "                                               color='black',\n",
    "                                               s=2,\n",
    "                                               label='Football',\n",
    "                                               zorder=3)\n",
    "\n",
    "plt.title('Example Play {} @ {}'.format(play['visitorTeamAbbr'][0],play['homeTeamAbbr'][0]))\n",
    "plt.legend(loc='upper right',markerscale=3,bbox_to_anchor=(.995,1.01),framealpha=1,facecolor='aliceblue')\n",
    "plt.show()"
   ]
  },
  {
   "cell_type": "markdown",
   "metadata": {},
   "source": [
    "## What team was the best at Pass Defense?"
   ]
  },
  {
   "cell_type": "code",
   "execution_count": 332,
   "metadata": {
    "scrolled": true
   },
   "outputs": [],
   "source": [
    "playsgames = plays.merge(games,on='gameId',how='left')"
   ]
  },
  {
   "cell_type": "code",
   "execution_count": 375,
   "metadata": {},
   "outputs": [],
   "source": [
    "playsgames['defenseTeam'] = [playsgames['visitorTeamAbbr'][x] if playsgames['homeTeamAbbr'][x] == playsgames['possessionTeam'][x] else playsgames['homeTeamAbbr'][x] for x in playsgames['homeTeamAbbr'].index]\n"
   ]
  },
  {
   "cell_type": "code",
   "execution_count": 384,
   "metadata": {
    "collapsed": true
   },
   "outputs": [
    {
     "data": {
      "text/html": [
       "<div>\n",
       "<style scoped>\n",
       "    .dataframe tbody tr th:only-of-type {\n",
       "        vertical-align: middle;\n",
       "    }\n",
       "\n",
       "    .dataframe tbody tr th {\n",
       "        vertical-align: top;\n",
       "    }\n",
       "\n",
       "    .dataframe thead th {\n",
       "        text-align: right;\n",
       "    }\n",
       "</style>\n",
       "<table border=\"1\" class=\"dataframe\">\n",
       "  <thead>\n",
       "    <tr style=\"text-align: right;\">\n",
       "      <th></th>\n",
       "      <th>epa</th>\n",
       "      <th>offensePlayResult</th>\n",
       "      <th>playResult</th>\n",
       "    </tr>\n",
       "    <tr>\n",
       "      <th>defenseTeam</th>\n",
       "      <th></th>\n",
       "      <th></th>\n",
       "      <th></th>\n",
       "    </tr>\n",
       "  </thead>\n",
       "  <tbody>\n",
       "    <tr>\n",
       "      <td>CHI</td>\n",
       "      <td>-0.149298</td>\n",
       "      <td>5.212703</td>\n",
       "      <td>5.339734</td>\n",
       "    </tr>\n",
       "    <tr>\n",
       "      <td>BUF</td>\n",
       "      <td>-0.127225</td>\n",
       "      <td>5.237226</td>\n",
       "      <td>5.631387</td>\n",
       "    </tr>\n",
       "    <tr>\n",
       "      <td>MIN</td>\n",
       "      <td>-0.123750</td>\n",
       "      <td>5.560784</td>\n",
       "      <td>5.556863</td>\n",
       "    </tr>\n",
       "    <tr>\n",
       "      <td>BAL</td>\n",
       "      <td>-0.097879</td>\n",
       "      <td>5.414330</td>\n",
       "      <td>5.297508</td>\n",
       "    </tr>\n",
       "    <tr>\n",
       "      <td>NE</td>\n",
       "      <td>-0.054320</td>\n",
       "      <td>6.112654</td>\n",
       "      <td>6.143519</td>\n",
       "    </tr>\n",
       "    <tr>\n",
       "      <td>JAX</td>\n",
       "      <td>-0.053762</td>\n",
       "      <td>5.696203</td>\n",
       "      <td>5.927667</td>\n",
       "    </tr>\n",
       "    <tr>\n",
       "      <td>LAC</td>\n",
       "      <td>-0.052734</td>\n",
       "      <td>5.961606</td>\n",
       "      <td>6.139616</td>\n",
       "    </tr>\n",
       "    <tr>\n",
       "      <td>LA</td>\n",
       "      <td>-0.018488</td>\n",
       "      <td>6.363790</td>\n",
       "      <td>6.744501</td>\n",
       "    </tr>\n",
       "    <tr>\n",
       "      <td>CLE</td>\n",
       "      <td>-0.011518</td>\n",
       "      <td>6.019090</td>\n",
       "      <td>6.252570</td>\n",
       "    </tr>\n",
       "    <tr>\n",
       "      <td>TEN</td>\n",
       "      <td>-0.010455</td>\n",
       "      <td>5.943299</td>\n",
       "      <td>6.111684</td>\n",
       "    </tr>\n",
       "    <tr>\n",
       "      <td>HOU</td>\n",
       "      <td>-0.010076</td>\n",
       "      <td>6.445469</td>\n",
       "      <td>6.622120</td>\n",
       "    </tr>\n",
       "    <tr>\n",
       "      <td>ARI</td>\n",
       "      <td>-0.005059</td>\n",
       "      <td>5.758319</td>\n",
       "      <td>5.849387</td>\n",
       "    </tr>\n",
       "    <tr>\n",
       "      <td>PIT</td>\n",
       "      <td>0.003001</td>\n",
       "      <td>5.794586</td>\n",
       "      <td>6.227707</td>\n",
       "    </tr>\n",
       "    <tr>\n",
       "      <td>SEA</td>\n",
       "      <td>0.003883</td>\n",
       "      <td>6.272242</td>\n",
       "      <td>6.660142</td>\n",
       "    </tr>\n",
       "    <tr>\n",
       "      <td>IND</td>\n",
       "      <td>0.003935</td>\n",
       "      <td>6.439394</td>\n",
       "      <td>6.577441</td>\n",
       "    </tr>\n",
       "    <tr>\n",
       "      <td>DEN</td>\n",
       "      <td>0.011387</td>\n",
       "      <td>6.477273</td>\n",
       "      <td>6.456294</td>\n",
       "    </tr>\n",
       "    <tr>\n",
       "      <td>PHI</td>\n",
       "      <td>0.015633</td>\n",
       "      <td>6.301611</td>\n",
       "      <td>6.414348</td>\n",
       "    </tr>\n",
       "    <tr>\n",
       "      <td>DAL</td>\n",
       "      <td>0.024030</td>\n",
       "      <td>6.391597</td>\n",
       "      <td>6.396639</td>\n",
       "    </tr>\n",
       "    <tr>\n",
       "      <td>KC</td>\n",
       "      <td>0.032250</td>\n",
       "      <td>6.042105</td>\n",
       "      <td>6.384962</td>\n",
       "    </tr>\n",
       "    <tr>\n",
       "      <td>WAS</td>\n",
       "      <td>0.035994</td>\n",
       "      <td>6.358209</td>\n",
       "      <td>6.656716</td>\n",
       "    </tr>\n",
       "    <tr>\n",
       "      <td>NYJ</td>\n",
       "      <td>0.045372</td>\n",
       "      <td>6.492913</td>\n",
       "      <td>6.535433</td>\n",
       "    </tr>\n",
       "    <tr>\n",
       "      <td>ATL</td>\n",
       "      <td>0.069748</td>\n",
       "      <td>6.524922</td>\n",
       "      <td>6.560748</td>\n",
       "    </tr>\n",
       "    <tr>\n",
       "      <td>CAR</td>\n",
       "      <td>0.073813</td>\n",
       "      <td>6.765517</td>\n",
       "      <td>6.891379</td>\n",
       "    </tr>\n",
       "    <tr>\n",
       "      <td>MIA</td>\n",
       "      <td>0.077788</td>\n",
       "      <td>7.158645</td>\n",
       "      <td>7.563280</td>\n",
       "    </tr>\n",
       "    <tr>\n",
       "      <td>NYG</td>\n",
       "      <td>0.089552</td>\n",
       "      <td>6.618421</td>\n",
       "      <td>6.906250</td>\n",
       "    </tr>\n",
       "    <tr>\n",
       "      <td>DET</td>\n",
       "      <td>0.091302</td>\n",
       "      <td>6.500000</td>\n",
       "      <td>6.749104</td>\n",
       "    </tr>\n",
       "    <tr>\n",
       "      <td>NO</td>\n",
       "      <td>0.092158</td>\n",
       "      <td>6.682171</td>\n",
       "      <td>6.990698</td>\n",
       "    </tr>\n",
       "    <tr>\n",
       "      <td>GB</td>\n",
       "      <td>0.107783</td>\n",
       "      <td>6.398305</td>\n",
       "      <td>6.740678</td>\n",
       "    </tr>\n",
       "    <tr>\n",
       "      <td>CIN</td>\n",
       "      <td>0.124842</td>\n",
       "      <td>7.044025</td>\n",
       "      <td>6.998428</td>\n",
       "    </tr>\n",
       "    <tr>\n",
       "      <td>TB</td>\n",
       "      <td>0.133778</td>\n",
       "      <td>7.151618</td>\n",
       "      <td>7.255537</td>\n",
       "    </tr>\n",
       "    <tr>\n",
       "      <td>SF</td>\n",
       "      <td>0.164462</td>\n",
       "      <td>6.335125</td>\n",
       "      <td>6.718638</td>\n",
       "    </tr>\n",
       "    <tr>\n",
       "      <td>OAK</td>\n",
       "      <td>0.207278</td>\n",
       "      <td>7.674510</td>\n",
       "      <td>8.000000</td>\n",
       "    </tr>\n",
       "  </tbody>\n",
       "</table>\n",
       "</div>"
      ],
      "text/plain": [
       "                  epa  offensePlayResult  playResult\n",
       "defenseTeam                                         \n",
       "CHI         -0.149298           5.212703    5.339734\n",
       "BUF         -0.127225           5.237226    5.631387\n",
       "MIN         -0.123750           5.560784    5.556863\n",
       "BAL         -0.097879           5.414330    5.297508\n",
       "NE          -0.054320           6.112654    6.143519\n",
       "JAX         -0.053762           5.696203    5.927667\n",
       "LAC         -0.052734           5.961606    6.139616\n",
       "LA          -0.018488           6.363790    6.744501\n",
       "CLE         -0.011518           6.019090    6.252570\n",
       "TEN         -0.010455           5.943299    6.111684\n",
       "HOU         -0.010076           6.445469    6.622120\n",
       "ARI         -0.005059           5.758319    5.849387\n",
       "PIT          0.003001           5.794586    6.227707\n",
       "SEA          0.003883           6.272242    6.660142\n",
       "IND          0.003935           6.439394    6.577441\n",
       "DEN          0.011387           6.477273    6.456294\n",
       "PHI          0.015633           6.301611    6.414348\n",
       "DAL          0.024030           6.391597    6.396639\n",
       "KC           0.032250           6.042105    6.384962\n",
       "WAS          0.035994           6.358209    6.656716\n",
       "NYJ          0.045372           6.492913    6.535433\n",
       "ATL          0.069748           6.524922    6.560748\n",
       "CAR          0.073813           6.765517    6.891379\n",
       "MIA          0.077788           7.158645    7.563280\n",
       "NYG          0.089552           6.618421    6.906250\n",
       "DET          0.091302           6.500000    6.749104\n",
       "NO           0.092158           6.682171    6.990698\n",
       "GB           0.107783           6.398305    6.740678\n",
       "CIN          0.124842           7.044025    6.998428\n",
       "TB           0.133778           7.151618    7.255537\n",
       "SF           0.164462           6.335125    6.718638\n",
       "OAK          0.207278           7.674510    8.000000"
      ]
     },
     "execution_count": 384,
     "metadata": {},
     "output_type": "execute_result"
    }
   ],
   "source": [
    "#chicago is best at pass defense\n",
    "playsgames.groupby('defenseTeam')[['epa','offensePlayResult','playResult']].mean().sort_values(by='epa')"
   ]
  },
  {
   "cell_type": "code",
   "execution_count": 418,
   "metadata": {
    "collapsed": true
   },
   "outputs": [
    {
     "data": {
      "text/plain": [
       "time                                               2018-09-07T02:04:12.000Z\n",
       "x                                                                     35.43\n",
       "y                                                                     23.93\n",
       "s                                                                         0\n",
       "a                                                                         0\n",
       "dis                                                                       0\n",
       "o                                                                     83.98\n",
       "dir                                                                   41.98\n",
       "event                                                                  None\n",
       "nflId                                                                   310\n",
       "displayName                                                       Matt Ryan\n",
       "jerseyNumber                                                              2\n",
       "position                                                                 QB\n",
       "frameId                                                                   1\n",
       "team                                                                   away\n",
       "gameId                                                           2018090600\n",
       "playId                                                                 1423\n",
       "playDirection                                                         right\n",
       "route                                                                   NaN\n",
       "playDescription           (5:34) M.Ryan pass deep left to J.Jones pushed...\n",
       "quarter                                                                   2\n",
       "down                                                                      2\n",
       "yardsToGo                                                                 8\n",
       "possessionTeam                                                          ATL\n",
       "playType                                                     play_type_pass\n",
       "yardlineSide                                                            ATL\n",
       "yardlineNumber                                                           27\n",
       "offenseFormation                                                 SINGLEBACK\n",
       "personnelO                                                 1 RB, 3 TE, 1 WR\n",
       "defendersInTheBox                                                         7\n",
       "numberOfPassRushers                                                       4\n",
       "personnelD                                                 4 DL, 3 LB, 4 DB\n",
       "typeDropback                                                    TRADITIONAL\n",
       "preSnapVisitorScore                                                       3\n",
       "preSnapHomeScore                                                          3\n",
       "gameClock                                                          05:34:00\n",
       "absoluteYardlineNumber                                                   37\n",
       "penaltyCodes                                                            NaN\n",
       "penaltyJerseyNumbers                                                    NaN\n",
       "passResult                                                                C\n",
       "offensePlayResult                                                        22\n",
       "playResult                                                               22\n",
       "epa                                                                 1.70373\n",
       "isDefensivePI                                                         False\n",
       "gameDate                                                         09/06/2018\n",
       "gameTimeEastern                                                    20:20:00\n",
       "homeTeamAbbr                                                            PHI\n",
       "visitorTeamAbbr                                                         ATL\n",
       "week                                                                      1\n",
       "height                                                                   76\n",
       "weight                                                                  217\n",
       "birthDate                                                        1985-05-17\n",
       "collegeName                                                  Boston College\n",
       "targetNflId                                                     2.49545e+06\n",
       "Name: 21995, dtype: object"
      ]
     },
     "execution_count": 418,
     "metadata": {},
     "output_type": "execute_result"
    }
   ],
   "source": [
    "df.iloc[21995]"
   ]
  },
  {
   "cell_type": "code",
   "execution_count": 420,
   "metadata": {},
   "outputs": [
    {
     "ename": "KeyboardInterrupt",
     "evalue": "",
     "output_type": "error",
     "traceback": [
      "\u001b[0;31m---------------------------------------------------------------------------\u001b[0m",
      "\u001b[0;31mKeyboardInterrupt\u001b[0m                         Traceback (most recent call last)",
      "\u001b[0;32m<ipython-input-420-211adb3dac64>\u001b[0m in \u001b[0;36m<module>\u001b[0;34m\u001b[0m\n\u001b[1;32m      1\u001b[0m df['defenseTeam'] = [df['visitorTeamAbbr'][x] if df['homeTeamAbbr'][x] == df['possessionTeam'][x] \n\u001b[0;32m----> 2\u001b[0;31m                      else df['homeTeamAbbr'][x] for x in df['homeTeamAbbr'].index]\n\u001b[0m",
      "\u001b[0;32m<ipython-input-420-211adb3dac64>\u001b[0m in \u001b[0;36m<listcomp>\u001b[0;34m(.0)\u001b[0m\n\u001b[1;32m      1\u001b[0m df['defenseTeam'] = [df['visitorTeamAbbr'][x] if df['homeTeamAbbr'][x] == df['possessionTeam'][x] \n\u001b[0;32m----> 2\u001b[0;31m                      else df['homeTeamAbbr'][x] for x in df['homeTeamAbbr'].index]\n\u001b[0m",
      "\u001b[0;32m~/opt/anaconda3/lib/python3.7/site-packages/pandas/core/series.py\u001b[0m in \u001b[0;36m__getitem__\u001b[0;34m(self, key)\u001b[0m\n\u001b[1;32m   1066\u001b[0m         \u001b[0mkey\u001b[0m \u001b[0;34m=\u001b[0m \u001b[0mcom\u001b[0m\u001b[0;34m.\u001b[0m\u001b[0mapply_if_callable\u001b[0m\u001b[0;34m(\u001b[0m\u001b[0mkey\u001b[0m\u001b[0;34m,\u001b[0m \u001b[0mself\u001b[0m\u001b[0;34m)\u001b[0m\u001b[0;34m\u001b[0m\u001b[0;34m\u001b[0m\u001b[0m\n\u001b[1;32m   1067\u001b[0m         \u001b[0;32mtry\u001b[0m\u001b[0;34m:\u001b[0m\u001b[0;34m\u001b[0m\u001b[0;34m\u001b[0m\u001b[0m\n\u001b[0;32m-> 1068\u001b[0;31m             \u001b[0mresult\u001b[0m \u001b[0;34m=\u001b[0m \u001b[0mself\u001b[0m\u001b[0;34m.\u001b[0m\u001b[0mindex\u001b[0m\u001b[0;34m.\u001b[0m\u001b[0mget_value\u001b[0m\u001b[0;34m(\u001b[0m\u001b[0mself\u001b[0m\u001b[0;34m,\u001b[0m \u001b[0mkey\u001b[0m\u001b[0;34m)\u001b[0m\u001b[0;34m\u001b[0m\u001b[0;34m\u001b[0m\u001b[0m\n\u001b[0m\u001b[1;32m   1069\u001b[0m \u001b[0;34m\u001b[0m\u001b[0m\n\u001b[1;32m   1070\u001b[0m             \u001b[0;32mif\u001b[0m \u001b[0;32mnot\u001b[0m \u001b[0mis_scalar\u001b[0m\u001b[0;34m(\u001b[0m\u001b[0mresult\u001b[0m\u001b[0;34m)\u001b[0m\u001b[0;34m:\u001b[0m\u001b[0;34m\u001b[0m\u001b[0;34m\u001b[0m\u001b[0m\n",
      "\u001b[0;32m~/opt/anaconda3/lib/python3.7/site-packages/pandas/core/indexes/base.py\u001b[0m in \u001b[0;36mget_value\u001b[0;34m(self, series, key)\u001b[0m\n\u001b[1;32m   4728\u001b[0m         \u001b[0mk\u001b[0m \u001b[0;34m=\u001b[0m \u001b[0mself\u001b[0m\u001b[0;34m.\u001b[0m\u001b[0m_convert_scalar_indexer\u001b[0m\u001b[0;34m(\u001b[0m\u001b[0mk\u001b[0m\u001b[0;34m,\u001b[0m \u001b[0mkind\u001b[0m\u001b[0;34m=\u001b[0m\u001b[0;34m\"getitem\"\u001b[0m\u001b[0;34m)\u001b[0m\u001b[0;34m\u001b[0m\u001b[0;34m\u001b[0m\u001b[0m\n\u001b[1;32m   4729\u001b[0m         \u001b[0;32mtry\u001b[0m\u001b[0;34m:\u001b[0m\u001b[0;34m\u001b[0m\u001b[0;34m\u001b[0m\u001b[0m\n\u001b[0;32m-> 4730\u001b[0;31m             \u001b[0;32mreturn\u001b[0m \u001b[0mself\u001b[0m\u001b[0;34m.\u001b[0m\u001b[0m_engine\u001b[0m\u001b[0;34m.\u001b[0m\u001b[0mget_value\u001b[0m\u001b[0;34m(\u001b[0m\u001b[0ms\u001b[0m\u001b[0;34m,\u001b[0m \u001b[0mk\u001b[0m\u001b[0;34m,\u001b[0m \u001b[0mtz\u001b[0m\u001b[0;34m=\u001b[0m\u001b[0mgetattr\u001b[0m\u001b[0;34m(\u001b[0m\u001b[0mseries\u001b[0m\u001b[0;34m.\u001b[0m\u001b[0mdtype\u001b[0m\u001b[0;34m,\u001b[0m \u001b[0;34m\"tz\"\u001b[0m\u001b[0;34m,\u001b[0m \u001b[0;32mNone\u001b[0m\u001b[0;34m)\u001b[0m\u001b[0;34m)\u001b[0m\u001b[0;34m\u001b[0m\u001b[0;34m\u001b[0m\u001b[0m\n\u001b[0m\u001b[1;32m   4731\u001b[0m         \u001b[0;32mexcept\u001b[0m \u001b[0mKeyError\u001b[0m \u001b[0;32mas\u001b[0m \u001b[0me1\u001b[0m\u001b[0;34m:\u001b[0m\u001b[0;34m\u001b[0m\u001b[0;34m\u001b[0m\u001b[0m\n\u001b[1;32m   4732\u001b[0m             \u001b[0;32mif\u001b[0m \u001b[0mlen\u001b[0m\u001b[0;34m(\u001b[0m\u001b[0mself\u001b[0m\u001b[0;34m)\u001b[0m \u001b[0;34m>\u001b[0m \u001b[0;36m0\u001b[0m \u001b[0;32mand\u001b[0m \u001b[0;34m(\u001b[0m\u001b[0mself\u001b[0m\u001b[0;34m.\u001b[0m\u001b[0mholds_integer\u001b[0m\u001b[0;34m(\u001b[0m\u001b[0;34m)\u001b[0m \u001b[0;32mor\u001b[0m \u001b[0mself\u001b[0m\u001b[0;34m.\u001b[0m\u001b[0mis_boolean\u001b[0m\u001b[0;34m(\u001b[0m\u001b[0;34m)\u001b[0m\u001b[0;34m)\u001b[0m\u001b[0;34m:\u001b[0m\u001b[0;34m\u001b[0m\u001b[0;34m\u001b[0m\u001b[0m\n",
      "\u001b[0;31mKeyboardInterrupt\u001b[0m: "
     ]
    }
   ],
   "source": [
    "df['defenseTeam'] = [df['visitorTeamAbbr'][x] if df['homeTeamAbbr'][x] == df['possessionTeam'][x] \n",
    "                     else df['homeTeamAbbr'][x] for x in df['homeTeamAbbr'].index]\n"
   ]
  },
  {
   "cell_type": "code",
   "execution_count": 413,
   "metadata": {},
   "outputs": [
    {
     "ename": "KeyError",
     "evalue": "'defenseTeam'",
     "output_type": "error",
     "traceback": [
      "\u001b[0;31m---------------------------------------------------------------------------\u001b[0m",
      "\u001b[0;31mKeyError\u001b[0m                                  Traceback (most recent call last)",
      "\u001b[0;32m<ipython-input-413-3067d5520027>\u001b[0m in \u001b[0;36m<module>\u001b[0;34m\u001b[0m\n\u001b[0;32m----> 1\u001b[0;31m \u001b[0mdf\u001b[0m\u001b[0;34m.\u001b[0m\u001b[0mgroupby\u001b[0m\u001b[0;34m(\u001b[0m\u001b[0;34m'defenseTeam'\u001b[0m\u001b[0;34m)\u001b[0m\u001b[0;34m[\u001b[0m\u001b[0;34m[\u001b[0m\u001b[0;34m'epa'\u001b[0m\u001b[0;34m,\u001b[0m\u001b[0;34m'offensePlayResult'\u001b[0m\u001b[0;34m,\u001b[0m\u001b[0;34m'playResult'\u001b[0m\u001b[0;34m]\u001b[0m\u001b[0;34m]\u001b[0m\u001b[0;34m.\u001b[0m\u001b[0mmean\u001b[0m\u001b[0;34m(\u001b[0m\u001b[0;34m)\u001b[0m\u001b[0;34m.\u001b[0m\u001b[0msort_values\u001b[0m\u001b[0;34m(\u001b[0m\u001b[0mby\u001b[0m\u001b[0;34m=\u001b[0m\u001b[0;34m'epa'\u001b[0m\u001b[0;34m)\u001b[0m\u001b[0;34m\u001b[0m\u001b[0;34m\u001b[0m\u001b[0m\n\u001b[0m",
      "\u001b[0;32m~/opt/anaconda3/lib/python3.7/site-packages/pandas/core/generic.py\u001b[0m in \u001b[0;36mgroupby\u001b[0;34m(self, by, axis, level, as_index, sort, group_keys, squeeze, observed, **kwargs)\u001b[0m\n\u001b[1;32m   7892\u001b[0m             \u001b[0msqueeze\u001b[0m\u001b[0;34m=\u001b[0m\u001b[0msqueeze\u001b[0m\u001b[0;34m,\u001b[0m\u001b[0;34m\u001b[0m\u001b[0;34m\u001b[0m\u001b[0m\n\u001b[1;32m   7893\u001b[0m             \u001b[0mobserved\u001b[0m\u001b[0;34m=\u001b[0m\u001b[0mobserved\u001b[0m\u001b[0;34m,\u001b[0m\u001b[0;34m\u001b[0m\u001b[0;34m\u001b[0m\u001b[0m\n\u001b[0;32m-> 7894\u001b[0;31m             \u001b[0;34m**\u001b[0m\u001b[0mkwargs\u001b[0m\u001b[0;34m\u001b[0m\u001b[0;34m\u001b[0m\u001b[0m\n\u001b[0m\u001b[1;32m   7895\u001b[0m         )\n\u001b[1;32m   7896\u001b[0m \u001b[0;34m\u001b[0m\u001b[0m\n",
      "\u001b[0;32m~/opt/anaconda3/lib/python3.7/site-packages/pandas/core/groupby/groupby.py\u001b[0m in \u001b[0;36mgroupby\u001b[0;34m(obj, by, **kwds)\u001b[0m\n\u001b[1;32m   2520\u001b[0m         \u001b[0;32mraise\u001b[0m \u001b[0mTypeError\u001b[0m\u001b[0;34m(\u001b[0m\u001b[0;34m\"invalid type: {}\"\u001b[0m\u001b[0;34m.\u001b[0m\u001b[0mformat\u001b[0m\u001b[0;34m(\u001b[0m\u001b[0mobj\u001b[0m\u001b[0;34m)\u001b[0m\u001b[0;34m)\u001b[0m\u001b[0;34m\u001b[0m\u001b[0;34m\u001b[0m\u001b[0m\n\u001b[1;32m   2521\u001b[0m \u001b[0;34m\u001b[0m\u001b[0m\n\u001b[0;32m-> 2522\u001b[0;31m     \u001b[0;32mreturn\u001b[0m \u001b[0mklass\u001b[0m\u001b[0;34m(\u001b[0m\u001b[0mobj\u001b[0m\u001b[0;34m,\u001b[0m \u001b[0mby\u001b[0m\u001b[0;34m,\u001b[0m \u001b[0;34m**\u001b[0m\u001b[0mkwds\u001b[0m\u001b[0;34m)\u001b[0m\u001b[0;34m\u001b[0m\u001b[0;34m\u001b[0m\u001b[0m\n\u001b[0m",
      "\u001b[0;32m~/opt/anaconda3/lib/python3.7/site-packages/pandas/core/groupby/groupby.py\u001b[0m in \u001b[0;36m__init__\u001b[0;34m(self, obj, keys, axis, level, grouper, exclusions, selection, as_index, sort, group_keys, squeeze, observed, **kwargs)\u001b[0m\n\u001b[1;32m    389\u001b[0m                 \u001b[0msort\u001b[0m\u001b[0;34m=\u001b[0m\u001b[0msort\u001b[0m\u001b[0;34m,\u001b[0m\u001b[0;34m\u001b[0m\u001b[0;34m\u001b[0m\u001b[0m\n\u001b[1;32m    390\u001b[0m                 \u001b[0mobserved\u001b[0m\u001b[0;34m=\u001b[0m\u001b[0mobserved\u001b[0m\u001b[0;34m,\u001b[0m\u001b[0;34m\u001b[0m\u001b[0;34m\u001b[0m\u001b[0m\n\u001b[0;32m--> 391\u001b[0;31m                 \u001b[0mmutated\u001b[0m\u001b[0;34m=\u001b[0m\u001b[0mself\u001b[0m\u001b[0;34m.\u001b[0m\u001b[0mmutated\u001b[0m\u001b[0;34m,\u001b[0m\u001b[0;34m\u001b[0m\u001b[0;34m\u001b[0m\u001b[0m\n\u001b[0m\u001b[1;32m    392\u001b[0m             )\n\u001b[1;32m    393\u001b[0m \u001b[0;34m\u001b[0m\u001b[0m\n",
      "\u001b[0;32m~/opt/anaconda3/lib/python3.7/site-packages/pandas/core/groupby/grouper.py\u001b[0m in \u001b[0;36m_get_grouper\u001b[0;34m(obj, key, axis, level, sort, observed, mutated, validate)\u001b[0m\n\u001b[1;32m    619\u001b[0m                 \u001b[0min_axis\u001b[0m\u001b[0;34m,\u001b[0m \u001b[0mname\u001b[0m\u001b[0;34m,\u001b[0m \u001b[0mlevel\u001b[0m\u001b[0;34m,\u001b[0m \u001b[0mgpr\u001b[0m \u001b[0;34m=\u001b[0m \u001b[0;32mFalse\u001b[0m\u001b[0;34m,\u001b[0m \u001b[0;32mNone\u001b[0m\u001b[0;34m,\u001b[0m \u001b[0mgpr\u001b[0m\u001b[0;34m,\u001b[0m \u001b[0;32mNone\u001b[0m\u001b[0;34m\u001b[0m\u001b[0;34m\u001b[0m\u001b[0m\n\u001b[1;32m    620\u001b[0m             \u001b[0;32melse\u001b[0m\u001b[0;34m:\u001b[0m\u001b[0;34m\u001b[0m\u001b[0;34m\u001b[0m\u001b[0m\n\u001b[0;32m--> 621\u001b[0;31m                 \u001b[0;32mraise\u001b[0m \u001b[0mKeyError\u001b[0m\u001b[0;34m(\u001b[0m\u001b[0mgpr\u001b[0m\u001b[0;34m)\u001b[0m\u001b[0;34m\u001b[0m\u001b[0;34m\u001b[0m\u001b[0m\n\u001b[0m\u001b[1;32m    622\u001b[0m         \u001b[0;32melif\u001b[0m \u001b[0misinstance\u001b[0m\u001b[0;34m(\u001b[0m\u001b[0mgpr\u001b[0m\u001b[0;34m,\u001b[0m \u001b[0mGrouper\u001b[0m\u001b[0;34m)\u001b[0m \u001b[0;32mand\u001b[0m \u001b[0mgpr\u001b[0m\u001b[0;34m.\u001b[0m\u001b[0mkey\u001b[0m \u001b[0;32mis\u001b[0m \u001b[0;32mnot\u001b[0m \u001b[0;32mNone\u001b[0m\u001b[0;34m:\u001b[0m\u001b[0;34m\u001b[0m\u001b[0;34m\u001b[0m\u001b[0m\n\u001b[1;32m    623\u001b[0m             \u001b[0;31m# Add key to exclusions\u001b[0m\u001b[0;34m\u001b[0m\u001b[0;34m\u001b[0m\u001b[0;34m\u001b[0m\u001b[0m\n",
      "\u001b[0;31mKeyError\u001b[0m: 'defenseTeam'"
     ]
    }
   ],
   "source": [
    "df.groupby('defenseTeam')[['epa','offensePlayResult','playResult']].mean().sort_values(by='epa')"
   ]
  },
  {
   "cell_type": "code",
   "execution_count": null,
   "metadata": {},
   "outputs": [],
   "source": []
  }
 ],
 "metadata": {
  "kernelspec": {
   "display_name": "Python 3",
   "language": "python",
   "name": "python3"
  },
  "language_info": {
   "codemirror_mode": {
    "name": "ipython",
    "version": 3
   },
   "file_extension": ".py",
   "mimetype": "text/x-python",
   "name": "python",
   "nbconvert_exporter": "python",
   "pygments_lexer": "ipython3",
   "version": "3.7.4"
  }
 },
 "nbformat": 4,
 "nbformat_minor": 4
}
