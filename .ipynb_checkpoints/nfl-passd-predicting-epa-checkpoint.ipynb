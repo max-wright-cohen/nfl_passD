{
 "cells": [
  {
   "cell_type": "markdown",
   "metadata": {},
   "source": [
    "# IDEAS LIST\n",
    "##Main Ideas\n",
    "* Focus of competition is on pass defense\n",
    "* What is a successful pass defense?\n",
    "    * Incompletion\n",
    "    * Offense loses yards\n",
    "    * Offense does not gain a first down\n",
    "    * Sack, interception, offensive penalty\n",
    "       \n",
    "* Who is most successful against pass?\n",
    "    * Defenders?\n",
    "    * Defensive alignments?\n",
    "    * Coverages?\n",
    "    * Formation pairings for defense to avoid?\n",
    "    \n",
    "* How can we predict a penalty?\n",
    "    * What does a penalty cost in terms of yardage, EPA?\n",
    "\n",
    "* Things that could impact success of pass defense\n",
    "     * Speed of throw\n",
    "     * Blitz (number of defenders defense sends)\n",
    "     * Orientation of receiver\n",
    "     * Amount QB runs around\n",
    "     * Adjust for opponent epa\n",
    "     \n",
    "* Create dataframe of team defensive stats?\n",
    "     \n",
    "* Break down all-22 film with accompanying mapping of play\n",
    "    * https://gamepass.nfl.com/packages?redirected=true\n",
    "\n",
    "~* triangles (or other shape) depict orientation of player throughout the route~\n",
    "\n",
    "* Model to predict Probability of Defensive PI\n",
    "\n",
    "* Tell a story\n",
    "\n",
    "* Predict EPA given a number of variables\n",
    "\n",
    "##Resources\n",
    "* https://www.kaggle.com/c/nfl-big-data-bowl-2021/data\n",
    "* http://www.sloansportsconference.com/wp-content/uploads/2018/02/2012.pdf\n"
   ]
  },
  {
   "cell_type": "code",
   "execution_count": 2,
   "metadata": {
    "scrolled": true
   },
   "outputs": [
    {
     "name": "stdout",
     "output_type": "stream",
     "text": [
      "/Users/maxcohen/Documents/Python/Kaggle/nfl_2021\n"
     ]
    }
   ],
   "source": [
    "cd /Users/maxcohen/Documents/Python/Kaggle/nfl_2021"
   ]
  },
  {
   "cell_type": "code",
   "execution_count": 40,
   "metadata": {},
   "outputs": [],
   "source": [
    "import pandas as pd\n",
    "import numpy as np\n",
    "import matplotlib.pyplot as plt\n",
    "import matplotlib.patches as patches\n",
    "import seaborn as sns\n",
    "from sklearn.linear_model import LinearRegression\n",
    "from sklearn.model_selection import train_test_split\n",
    "from sklearn import metrics"
   ]
  },
  {
   "cell_type": "markdown",
   "metadata": {},
   "source": [
    "# READ FILES"
   ]
  },
  {
   "cell_type": "code",
   "execution_count": 5,
   "metadata": {
    "_cell_guid": "79c7e3d0-c299-4dcb-8224-4455121ee9b0",
    "_kg_hide-input": false,
    "_uuid": "d629ff2d2480ee46fbb7e2d37f6b5fab8052498a"
   },
   "outputs": [],
   "source": [
    "weeks = pd.read_csv('./nfl-big-data-bowl-2021/all_weeks.csv')\n",
    "plays = pd.read_csv('./nfl-big-data-bowl-2021/plays.csv')\n",
    "games = pd.read_csv('./nfl-big-data-bowl-2021/games.csv')\n",
    "players = pd.read_csv('./nfl-big-data-bowl-2021/players.csv')\n",
    "tgt = pd.read_csv('./nfl-big-data-bowl-2021/targetedReciever.csv')"
   ]
  },
  {
   "cell_type": "markdown",
   "metadata": {},
   "source": [
    "# Predict EPA"
   ]
  },
  {
   "cell_type": "code",
   "execution_count": 14,
   "metadata": {},
   "outputs": [
    {
     "name": "stdout",
     "output_type": "stream",
     "text": [
      "<class 'pandas.core.frame.DataFrame'>\n",
      "RangeIndex: 19239 entries, 0 to 19238\n",
      "Data columns (total 27 columns):\n",
      "gameId                    19239 non-null int64\n",
      "playId                    19239 non-null int64\n",
      "playDescription           19239 non-null object\n",
      "quarter                   19239 non-null int64\n",
      "down                      19239 non-null int64\n",
      "yardsToGo                 19239 non-null int64\n",
      "possessionTeam            19239 non-null object\n",
      "playType                  19239 non-null object\n",
      "yardlineSide              18985 non-null object\n",
      "yardlineNumber            19239 non-null int64\n",
      "offenseFormation          19098 non-null object\n",
      "personnelO                19210 non-null object\n",
      "defendersInTheBox         19177 non-null float64\n",
      "numberOfPassRushers       18606 non-null float64\n",
      "personnelD                19210 non-null object\n",
      "typeDropback              18600 non-null object\n",
      "preSnapVisitorScore       18600 non-null float64\n",
      "preSnapHomeScore          18600 non-null float64\n",
      "gameClock                 18600 non-null object\n",
      "absoluteYardlineNumber    18600 non-null float64\n",
      "penaltyCodes              1206 non-null object\n",
      "penaltyJerseyNumbers      1206 non-null object\n",
      "passResult                19237 non-null object\n",
      "offensePlayResult         19239 non-null int64\n",
      "playResult                19239 non-null int64\n",
      "epa                       19239 non-null float64\n",
      "isDefensivePI             19239 non-null bool\n",
      "dtypes: bool(1), float64(6), int64(8), object(12)\n",
      "memory usage: 3.8+ MB\n"
     ]
    }
   ],
   "source": [
    "plays.info()"
   ]
  },
  {
   "cell_type": "code",
   "execution_count": 28,
   "metadata": {},
   "outputs": [],
   "source": [
    "cols = ['down','yardsToGo','absoluteYardlineNumber',\n",
    "        'defendersInTheBox',\n",
    "        'numberOfPassRushers','offenseFormation',\n",
    "        'personnelO','personnelD','epa']"
   ]
  },
  {
   "cell_type": "code",
   "execution_count": 48,
   "metadata": {},
   "outputs": [
    {
     "data": {
      "text/plain": [
       "DPI             242\n",
       "DH              241\n",
       "RPS             104\n",
       "OPI              96\n",
       "OH               94\n",
       "               ... \n",
       "FMM;HC            1\n",
       "TAU;TAUd;TAU      1\n",
       "RPS;UNRd          1\n",
       "CHB               1\n",
       "UOH               1\n",
       "Name: penaltyCodes, Length: 86, dtype: int64"
      ]
     },
     "execution_count": 48,
     "metadata": {},
     "output_type": "execute_result"
    }
   ],
   "source": [
    "plays['penaltyCodes'].value_counts()"
   ]
  },
  {
   "cell_type": "code",
   "execution_count": 33,
   "metadata": {},
   "outputs": [],
   "source": [
    "pp = pd.get_dummies(plays[cols]).dropna()"
   ]
  },
  {
   "cell_type": "code",
   "execution_count": 34,
   "metadata": {},
   "outputs": [
    {
     "data": {
      "text/html": [
       "<div>\n",
       "<style scoped>\n",
       "    .dataframe tbody tr th:only-of-type {\n",
       "        vertical-align: middle;\n",
       "    }\n",
       "\n",
       "    .dataframe tbody tr th {\n",
       "        vertical-align: top;\n",
       "    }\n",
       "\n",
       "    .dataframe thead th {\n",
       "        text-align: right;\n",
       "    }\n",
       "</style>\n",
       "<table border=\"1\" class=\"dataframe\">\n",
       "  <thead>\n",
       "    <tr style=\"text-align: right;\">\n",
       "      <th></th>\n",
       "      <th>down</th>\n",
       "      <th>yardsToGo</th>\n",
       "      <th>absoluteYardlineNumber</th>\n",
       "      <th>defendersInTheBox</th>\n",
       "      <th>numberOfPassRushers</th>\n",
       "      <th>epa</th>\n",
       "      <th>offenseFormation_EMPTY</th>\n",
       "      <th>offenseFormation_I_FORM</th>\n",
       "      <th>offenseFormation_JUMBO</th>\n",
       "      <th>offenseFormation_PISTOL</th>\n",
       "      <th>...</th>\n",
       "      <th>personnelD_5 DL, 2 LB, 4 DB</th>\n",
       "      <th>personnelD_5 DL, 3 LB, 2 DB, 1 OL</th>\n",
       "      <th>personnelD_5 DL, 3 LB, 3 DB</th>\n",
       "      <th>personnelD_5 DL, 4 LB, 2 DB</th>\n",
       "      <th>personnelD_5 DL, 5 LB, 1 DB</th>\n",
       "      <th>personnelD_6 DL, 1 LB, 4 DB</th>\n",
       "      <th>personnelD_6 DL, 2 LB, 3 DB</th>\n",
       "      <th>personnelD_6 DL, 3 LB, 2 DB</th>\n",
       "      <th>personnelD_6 DL, 4 LB, 1 DB</th>\n",
       "      <th>personnelD_7 DL, 3 LB, 1 DB</th>\n",
       "    </tr>\n",
       "  </thead>\n",
       "  <tbody>\n",
       "    <tr>\n",
       "      <td>0</td>\n",
       "      <td>1</td>\n",
       "      <td>15</td>\n",
       "      <td>90.0</td>\n",
       "      <td>7.0</td>\n",
       "      <td>4.0</td>\n",
       "      <td>0.261827</td>\n",
       "      <td>0</td>\n",
       "      <td>1</td>\n",
       "      <td>0</td>\n",
       "      <td>0</td>\n",
       "      <td>...</td>\n",
       "      <td>0</td>\n",
       "      <td>0</td>\n",
       "      <td>0</td>\n",
       "      <td>0</td>\n",
       "      <td>0</td>\n",
       "      <td>0</td>\n",
       "      <td>0</td>\n",
       "      <td>0</td>\n",
       "      <td>0</td>\n",
       "      <td>0</td>\n",
       "    </tr>\n",
       "    <tr>\n",
       "      <td>1</td>\n",
       "      <td>1</td>\n",
       "      <td>10</td>\n",
       "      <td>49.0</td>\n",
       "      <td>7.0</td>\n",
       "      <td>4.0</td>\n",
       "      <td>-0.372360</td>\n",
       "      <td>0</td>\n",
       "      <td>0</td>\n",
       "      <td>0</td>\n",
       "      <td>0</td>\n",
       "      <td>...</td>\n",
       "      <td>0</td>\n",
       "      <td>0</td>\n",
       "      <td>0</td>\n",
       "      <td>0</td>\n",
       "      <td>0</td>\n",
       "      <td>0</td>\n",
       "      <td>0</td>\n",
       "      <td>0</td>\n",
       "      <td>0</td>\n",
       "      <td>0</td>\n",
       "    </tr>\n",
       "    <tr>\n",
       "      <td>2</td>\n",
       "      <td>2</td>\n",
       "      <td>10</td>\n",
       "      <td>49.0</td>\n",
       "      <td>6.0</td>\n",
       "      <td>4.0</td>\n",
       "      <td>-0.702779</td>\n",
       "      <td>0</td>\n",
       "      <td>0</td>\n",
       "      <td>0</td>\n",
       "      <td>0</td>\n",
       "      <td>...</td>\n",
       "      <td>0</td>\n",
       "      <td>0</td>\n",
       "      <td>0</td>\n",
       "      <td>0</td>\n",
       "      <td>0</td>\n",
       "      <td>0</td>\n",
       "      <td>0</td>\n",
       "      <td>0</td>\n",
       "      <td>0</td>\n",
       "      <td>0</td>\n",
       "    </tr>\n",
       "    <tr>\n",
       "      <td>3</td>\n",
       "      <td>3</td>\n",
       "      <td>10</td>\n",
       "      <td>49.0</td>\n",
       "      <td>6.0</td>\n",
       "      <td>5.0</td>\n",
       "      <td>3.047530</td>\n",
       "      <td>0</td>\n",
       "      <td>0</td>\n",
       "      <td>0</td>\n",
       "      <td>0</td>\n",
       "      <td>...</td>\n",
       "      <td>0</td>\n",
       "      <td>0</td>\n",
       "      <td>0</td>\n",
       "      <td>0</td>\n",
       "      <td>0</td>\n",
       "      <td>0</td>\n",
       "      <td>0</td>\n",
       "      <td>0</td>\n",
       "      <td>0</td>\n",
       "      <td>0</td>\n",
       "    </tr>\n",
       "    <tr>\n",
       "      <td>4</td>\n",
       "      <td>3</td>\n",
       "      <td>1</td>\n",
       "      <td>11.0</td>\n",
       "      <td>8.0</td>\n",
       "      <td>6.0</td>\n",
       "      <td>-0.842272</td>\n",
       "      <td>0</td>\n",
       "      <td>0</td>\n",
       "      <td>0</td>\n",
       "      <td>0</td>\n",
       "      <td>...</td>\n",
       "      <td>0</td>\n",
       "      <td>0</td>\n",
       "      <td>0</td>\n",
       "      <td>0</td>\n",
       "      <td>0</td>\n",
       "      <td>0</td>\n",
       "      <td>0</td>\n",
       "      <td>1</td>\n",
       "      <td>0</td>\n",
       "      <td>0</td>\n",
       "    </tr>\n",
       "  </tbody>\n",
       "</table>\n",
       "<p>5 rows × 125 columns</p>\n",
       "</div>"
      ],
      "text/plain": [
       "   down  yardsToGo  absoluteYardlineNumber  defendersInTheBox  \\\n",
       "0     1         15                    90.0                7.0   \n",
       "1     1         10                    49.0                7.0   \n",
       "2     2         10                    49.0                6.0   \n",
       "3     3         10                    49.0                6.0   \n",
       "4     3          1                    11.0                8.0   \n",
       "\n",
       "   numberOfPassRushers       epa  offenseFormation_EMPTY  \\\n",
       "0                  4.0  0.261827                       0   \n",
       "1                  4.0 -0.372360                       0   \n",
       "2                  4.0 -0.702779                       0   \n",
       "3                  5.0  3.047530                       0   \n",
       "4                  6.0 -0.842272                       0   \n",
       "\n",
       "   offenseFormation_I_FORM  offenseFormation_JUMBO  offenseFormation_PISTOL  \\\n",
       "0                        1                       0                        0   \n",
       "1                        0                       0                        0   \n",
       "2                        0                       0                        0   \n",
       "3                        0                       0                        0   \n",
       "4                        0                       0                        0   \n",
       "\n",
       "   ...  personnelD_5 DL, 2 LB, 4 DB  personnelD_5 DL, 3 LB, 2 DB, 1 OL  \\\n",
       "0  ...                            0                                  0   \n",
       "1  ...                            0                                  0   \n",
       "2  ...                            0                                  0   \n",
       "3  ...                            0                                  0   \n",
       "4  ...                            0                                  0   \n",
       "\n",
       "   personnelD_5 DL, 3 LB, 3 DB  personnelD_5 DL, 4 LB, 2 DB  \\\n",
       "0                            0                            0   \n",
       "1                            0                            0   \n",
       "2                            0                            0   \n",
       "3                            0                            0   \n",
       "4                            0                            0   \n",
       "\n",
       "   personnelD_5 DL, 5 LB, 1 DB  personnelD_6 DL, 1 LB, 4 DB  \\\n",
       "0                            0                            0   \n",
       "1                            0                            0   \n",
       "2                            0                            0   \n",
       "3                            0                            0   \n",
       "4                            0                            0   \n",
       "\n",
       "   personnelD_6 DL, 2 LB, 3 DB  personnelD_6 DL, 3 LB, 2 DB  \\\n",
       "0                            0                            0   \n",
       "1                            0                            0   \n",
       "2                            0                            0   \n",
       "3                            0                            0   \n",
       "4                            0                            1   \n",
       "\n",
       "   personnelD_6 DL, 4 LB, 1 DB  personnelD_7 DL, 3 LB, 1 DB  \n",
       "0                            0                            0  \n",
       "1                            0                            0  \n",
       "2                            0                            0  \n",
       "3                            0                            0  \n",
       "4                            0                            0  \n",
       "\n",
       "[5 rows x 125 columns]"
      ]
     },
     "execution_count": 34,
     "metadata": {},
     "output_type": "execute_result"
    }
   ],
   "source": [
    "pp.head()"
   ]
  },
  {
   "cell_type": "code",
   "execution_count": 39,
   "metadata": {},
   "outputs": [
    {
     "data": {
      "text/html": [
       "<div>\n",
       "<style scoped>\n",
       "    .dataframe tbody tr th:only-of-type {\n",
       "        vertical-align: middle;\n",
       "    }\n",
       "\n",
       "    .dataframe tbody tr th {\n",
       "        vertical-align: top;\n",
       "    }\n",
       "\n",
       "    .dataframe thead th {\n",
       "        text-align: right;\n",
       "    }\n",
       "</style>\n",
       "<table border=\"1\" class=\"dataframe\">\n",
       "  <thead>\n",
       "    <tr style=\"text-align: right;\">\n",
       "      <th></th>\n",
       "      <th>Coefficient</th>\n",
       "    </tr>\n",
       "  </thead>\n",
       "  <tbody>\n",
       "    <tr>\n",
       "      <td>personnelO_2 RB, 3 TE, 0 WR</td>\n",
       "      <td>-1.886864</td>\n",
       "    </tr>\n",
       "    <tr>\n",
       "      <td>personnelD_1 DL, 4 LB, 5 DB</td>\n",
       "      <td>-1.674091</td>\n",
       "    </tr>\n",
       "    <tr>\n",
       "      <td>personnelD_2 DL, 3 LB, 5 DB</td>\n",
       "      <td>-1.533071</td>\n",
       "    </tr>\n",
       "    <tr>\n",
       "      <td>personnelO_6 OL, 1 RB, 2 TE, 0 WR,1 DL</td>\n",
       "      <td>-1.439418</td>\n",
       "    </tr>\n",
       "    <tr>\n",
       "      <td>personnelD_3 DL, 1 LB, 6 DB, 1 WR</td>\n",
       "      <td>-1.172888</td>\n",
       "    </tr>\n",
       "    <tr>\n",
       "      <td>personnelD_3 DL, 5 LB, 3 DB</td>\n",
       "      <td>-1.068073</td>\n",
       "    </tr>\n",
       "    <tr>\n",
       "      <td>personnelO_1 RB, 4 TE, 0 WR</td>\n",
       "      <td>-1.005012</td>\n",
       "    </tr>\n",
       "    <tr>\n",
       "      <td>personnelO_6 OL, 2 RB, 1 TE, 1 WR</td>\n",
       "      <td>-0.945905</td>\n",
       "    </tr>\n",
       "    <tr>\n",
       "      <td>personnelD_5 DL, 1 LB, 5 DB</td>\n",
       "      <td>-0.898371</td>\n",
       "    </tr>\n",
       "    <tr>\n",
       "      <td>personnelD_2 DL, 3 LB, 5 DB, 1 WR</td>\n",
       "      <td>-0.772286</td>\n",
       "    </tr>\n",
       "    <tr>\n",
       "      <td>personnelO_1 RB, 1 TE, 2 WR,1 DB</td>\n",
       "      <td>-0.667952</td>\n",
       "    </tr>\n",
       "    <tr>\n",
       "      <td>personnelD_0 DL, 6 LB, 5 DB</td>\n",
       "      <td>-0.574765</td>\n",
       "    </tr>\n",
       "    <tr>\n",
       "      <td>personnelO_2 QB, 1 RB, 0 TE, 3 WR</td>\n",
       "      <td>-0.550495</td>\n",
       "    </tr>\n",
       "    <tr>\n",
       "      <td>personnelD_2 DL, 2 LB, 7 DB</td>\n",
       "      <td>-0.478729</td>\n",
       "    </tr>\n",
       "    <tr>\n",
       "      <td>personnelD_3 DL, 1 LB, 7 DB</td>\n",
       "      <td>-0.341214</td>\n",
       "    </tr>\n",
       "    <tr>\n",
       "      <td>personnelO_0 RB, 0 TE, 5 WR</td>\n",
       "      <td>-0.303689</td>\n",
       "    </tr>\n",
       "    <tr>\n",
       "      <td>personnelO_0 RB, 3 TE, 2 WR</td>\n",
       "      <td>-0.295089</td>\n",
       "    </tr>\n",
       "    <tr>\n",
       "      <td>personnelO_6 OL, 1 RB, 3 TE, 0 WR</td>\n",
       "      <td>-0.248234</td>\n",
       "    </tr>\n",
       "    <tr>\n",
       "      <td>personnelO_6 OL, 1 RB, 2 TE, 1 WR</td>\n",
       "      <td>-0.240400</td>\n",
       "    </tr>\n",
       "    <tr>\n",
       "      <td>personnelO_1 RB, 1 TE, 2 WR,1 DL</td>\n",
       "      <td>-0.173983</td>\n",
       "    </tr>\n",
       "  </tbody>\n",
       "</table>\n",
       "</div>"
      ],
      "text/plain": [
       "                                        Coefficient\n",
       "personnelO_2 RB, 3 TE, 0 WR               -1.886864\n",
       "personnelD_1 DL, 4 LB, 5 DB               -1.674091\n",
       "personnelD_2 DL, 3 LB, 5 DB               -1.533071\n",
       "personnelO_6 OL, 1 RB, 2 TE, 0 WR,1 DL    -1.439418\n",
       "personnelD_3 DL, 1 LB, 6 DB, 1 WR         -1.172888\n",
       "personnelD_3 DL, 5 LB, 3 DB               -1.068073\n",
       "personnelO_1 RB, 4 TE, 0 WR               -1.005012\n",
       "personnelO_6 OL, 2 RB, 1 TE, 1 WR         -0.945905\n",
       "personnelD_5 DL, 1 LB, 5 DB               -0.898371\n",
       "personnelD_2 DL, 3 LB, 5 DB, 1 WR         -0.772286\n",
       "personnelO_1 RB, 1 TE, 2 WR,1 DB          -0.667952\n",
       "personnelD_0 DL, 6 LB, 5 DB               -0.574765\n",
       "personnelO_2 QB, 1 RB, 0 TE, 3 WR         -0.550495\n",
       "personnelD_2 DL, 2 LB, 7 DB               -0.478729\n",
       "personnelD_3 DL, 1 LB, 7 DB               -0.341214\n",
       "personnelO_0 RB, 0 TE, 5 WR               -0.303689\n",
       "personnelO_0 RB, 3 TE, 2 WR               -0.295089\n",
       "personnelO_6 OL, 1 RB, 3 TE, 0 WR         -0.248234\n",
       "personnelO_6 OL, 1 RB, 2 TE, 1 WR         -0.240400\n",
       "personnelO_1 RB, 1 TE, 2 WR,1 DL          -0.173983"
      ]
     },
     "execution_count": 39,
     "metadata": {},
     "output_type": "execute_result"
    }
   ],
   "source": [
    "X = pp.drop(['epa'],axis=1)\n",
    "y = pp['epa']\n",
    "\n",
    "X_train, X_test, y_train, y_test = (train_test_split\n",
    "                                    (X,y,\n",
    "                                     test_size=.4,\n",
    "                                     random_state=11))\n",
    "\n",
    "regressor = LinearRegression()\n",
    "regressor.fit(X_train,y_train)\n",
    "y_pred = regressor.predict(X_test)\n",
    "compare = pd.DataFrame({'Actual':y_test,'Predicted':y_pred})\n",
    "coeff_df = pd.DataFrame(regressor.coef_,X.columns,\n",
    "                         columns=['Coefficient'])\n",
    "coeff_df.sort_values('Coefficient',ascending=True).head(20)"
   ]
  },
  {
   "cell_type": "code",
   "execution_count": 46,
   "metadata": {},
   "outputs": [],
   "source": [
    "y_train_pred = regressor.predict(X_train)\n",
    "y_test_pred = regressor.predict(X_test)"
   ]
  },
  {
   "cell_type": "code",
   "execution_count": 47,
   "metadata": {},
   "outputs": [
    {
     "name": "stdout",
     "output_type": "stream",
     "text": [
      "Mean Absolute Error: 1.1172124544928745\n",
      "Mean Squared Error: 2.518288115756496\n",
      "Root Mean Squared Error: 1.5869115021816738\n",
      "R^2 train: 0.029, test: 0.010\n"
     ]
    }
   ],
   "source": [
    "print('Mean Absolute Error:', \n",
    "      metrics.mean_absolute_error(y_test, y_pred))\n",
    "print('Mean Squared Error:', \n",
    "      metrics.mean_squared_error(y_test, y_pred))\n",
    "print('Root Mean Squared Error:', \n",
    "      np.sqrt(metrics.mean_squared_error(y_test, y_pred)))\n",
    "print('R^2 train: %.3f, test: %.3f' % (\n",
    "        metrics.r2_score(y_train, y_train_pred),\n",
    "        metrics.r2_score(y_test, y_test_pred)))"
   ]
  },
  {
   "cell_type": "markdown",
   "metadata": {},
   "source": [
    "### What is a successful play for the defense?"
   ]
  },
  {
   "cell_type": "code",
   "execution_count": 49,
   "metadata": {},
   "outputs": [
    {
     "data": {
      "text/plain": [
       "Index(['gameId', 'playId', 'playDescription', 'quarter', 'down', 'yardsToGo',\n",
       "       'possessionTeam', 'playType', 'yardlineSide', 'yardlineNumber',\n",
       "       'offenseFormation', 'personnelO', 'defendersInTheBox',\n",
       "       'numberOfPassRushers', 'personnelD', 'typeDropback',\n",
       "       'preSnapVisitorScore', 'preSnapHomeScore', 'gameClock',\n",
       "       'absoluteYardlineNumber', 'penaltyCodes', 'penaltyJerseyNumbers',\n",
       "       'passResult', 'offensePlayResult', 'playResult', 'epa',\n",
       "       'isDefensivePI'],\n",
       "      dtype='object')"
      ]
     },
     "execution_count": 49,
     "metadata": {},
     "output_type": "execute_result"
    }
   ],
   "source": [
    "plays.columns"
   ]
  },
  {
   "cell_type": "code",
   "execution_count": 50,
   "metadata": {},
   "outputs": [
    {
     "data": {
      "text/plain": [
       "Index(['time', 'x', 'y', 's', 'a', 'dis', 'o', 'dir', 'event', 'nflId',\n",
       "       'displayName', 'jerseyNumber', 'position', 'frameId', 'team', 'gameId',\n",
       "       'playId', 'playDirection', 'route'],\n",
       "      dtype='object')"
      ]
     },
     "execution_count": 50,
     "metadata": {},
     "output_type": "execute_result"
    }
   ],
   "source": [
    "weeks.columns"
   ]
  },
  {
   "cell_type": "code",
   "execution_count": 52,
   "metadata": {},
   "outputs": [
    {
     "name": "stdout",
     "output_type": "stream",
     "text": [
      "C     11370\n",
      "I      6135\n",
      "S      1308\n",
      "IN      420\n",
      "R         4\n",
      "Name: passResult, dtype: int64\n",
      "0     6820\n",
      "6      817\n",
      "5      789\n",
      "7      789\n",
      "8      744\n",
      "      ... \n",
      "97       1\n",
      "89       1\n",
      "85       1\n",
      "69       1\n",
      "79       1\n",
      "Name: offensePlayResult, Length: 104, dtype: int64\n",
      " 0     6319\n",
      " 5      987\n",
      " 6      813\n",
      " 7      786\n",
      " 8      744\n",
      "       ... \n",
      "-41       1\n",
      " 85       1\n",
      " 69       1\n",
      "-27       1\n",
      "-24       1\n",
      "Name: playResult, Length: 123, dtype: int64\n"
     ]
    }
   ],
   "source": [
    "for i in ['passResult','offensePlayResult','playResult']:\n",
    "    print(plays[i].value_counts(ascending=False))"
   ]
  },
  {
   "cell_type": "code",
   "execution_count": 55,
   "metadata": {},
   "outputs": [
    {
     "data": {
      "text/plain": [
       "<matplotlib.axes._subplots.AxesSubplot at 0x1a1a99f690>"
      ]
     },
     "execution_count": 55,
     "metadata": {},
     "output_type": "execute_result"
    },
    {
     "data": {
      "image/png": "[encoded data removed]",
      "text/plain": [
       "<Figure size 432x288 with 1 Axes>"
      ]
     },
     "metadata": {
      "needs_background": "light"
     },
     "output_type": "display_data"
    }
   ],
   "source": [
    "plays.groupby('passResult')['epa'].mean().plot(kind='bar')"
   ]
  },
  {
   "cell_type": "code",
   "execution_count": 57,
   "metadata": {},
   "outputs": [
    {
     "data": {
      "text/plain": [
       "<matplotlib.axes._subplots.AxesSubplot at 0x1a1c2e7a90>"
      ]
     },
     "execution_count": 57,
     "metadata": {},
     "output_type": "execute_result"
    },
    {
     "data": {
      "image/png": "[encoded data removed]",
      "text/plain": [
       "<Figure size 432x288 with 1 Axes>"
      ]
     },
     "metadata": {
      "needs_background": "light"
     },
     "output_type": "display_data"
    }
   ],
   "source": [
    "plays.groupby('offensePlayResult')['epa'].mean().plot()"
   ]
  },
  {
   "cell_type": "code",
   "execution_count": 59,
   "metadata": {},
   "outputs": [
    {
     "data": {
      "text/plain": [
       "<matplotlib.axes._subplots.AxesSubplot at 0x1a1c2e7fd0>"
      ]
     },
     "execution_count": 59,
     "metadata": {},
     "output_type": "execute_result"
    },
    {
     "data": {
      "image/png": "[encoded data removed]",
      "text/plain": [
       "<Figure size 432x288 with 1 Axes>"
      ]
     },
     "metadata": {
      "needs_background": "light"
     },
     "output_type": "display_data"
    }
   ],
   "source": [
    "plays.groupby('playResult')['epa'].mean().plot()"
   ]
  },
  {
   "cell_type": "markdown",
   "metadata": {},
   "source": [
    "### Closest player to the attempted pass"
   ]
  },
  {
   "cell_type": "code",
   "execution_count": null,
   "metadata": {},
   "outputs": [],
   "source": []
  },
  {
   "cell_type": "code",
   "execution_count": null,
   "metadata": {},
   "outputs": [],
   "source": []
  },
  {
   "cell_type": "code",
   "execution_count": null,
   "metadata": {},
   "outputs": [],
   "source": []
  },
  {
   "cell_type": "code",
   "execution_count": null,
   "metadata": {},
   "outputs": [],
   "source": []
  },
  {
   "cell_type": "code",
   "execution_count": null,
   "metadata": {},
   "outputs": [],
   "source": []
  },
  {
   "cell_type": "code",
   "execution_count": null,
   "metadata": {},
   "outputs": [],
   "source": []
  },
  {
   "cell_type": "code",
   "execution_count": null,
   "metadata": {},
   "outputs": [],
   "source": []
  },
  {
   "cell_type": "code",
   "execution_count": null,
   "metadata": {},
   "outputs": [],
   "source": []
  },
  {
   "cell_type": "code",
   "execution_count": null,
   "metadata": {},
   "outputs": [],
   "source": []
  },
  {
   "cell_type": "code",
   "execution_count": null,
   "metadata": {},
   "outputs": [],
   "source": []
  },
  {
   "cell_type": "code",
   "execution_count": null,
   "metadata": {},
   "outputs": [],
   "source": []
  },
  {
   "cell_type": "code",
   "execution_count": null,
   "metadata": {},
   "outputs": [],
   "source": []
  },
  {
   "cell_type": "code",
   "execution_count": null,
   "metadata": {},
   "outputs": [],
   "source": []
  },
  {
   "cell_type": "code",
   "execution_count": null,
   "metadata": {},
   "outputs": [],
   "source": []
  }
 ],
 "metadata": {
  "kernelspec": {
   "display_name": "Python 3",
   "language": "python",
   "name": "python3"
  },
  "language_info": {
   "codemirror_mode": {
    "name": "ipython",
    "version": 3
   },
   "file_extension": ".py",
   "mimetype": "text/x-python",
   "name": "python",
   "nbconvert_exporter": "python",
   "pygments_lexer": "ipython3",
   "version": "3.7.4"
  }
 },
 "nbformat": 4,
 "nbformat_minor": 4
}
